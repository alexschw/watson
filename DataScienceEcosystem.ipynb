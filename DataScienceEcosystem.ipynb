{
 "cells": [
  {
   "cell_type": "markdown",
   "id": "304fb568-6482-4a67-9cb0-508799ad9935",
   "metadata": {
    "tags": []
   },
   "source": [
    "# Data Science Tools and Ecosystem"
   ]
  },
  {
   "cell_type": "markdown",
   "id": "302a639e-6df5-4bdb-995d-9111d032b82c",
   "metadata": {},
   "source": [
    "In this notebook, Data Science Tools and Ecosystem are summarized."
   ]
  },
  {
   "cell_type": "markdown",
   "id": "33ecb738-7466-4906-a6d6-fc0d33c6111d",
   "metadata": {},
   "source": [
    "**Objectives:**\n",
    "- list popular languages of data science\n",
    "- list commonly used libraries\n",
    "- list open source data science tools\n",
    "- shows the use of python blocks to evaluate expressions"
   ]
  },
  {
   "cell_type": "markdown",
   "id": "be2b1e12-b487-4bd2-ad6b-1df265a02409",
   "metadata": {},
   "source": [
    "## Author\n",
    "\n",
    "Alex S."
   ]
  },
  {
   "cell_type": "markdown",
   "id": "0c107a10-78cd-46a9-aa74-fc47df54a5fa",
   "metadata": {},
   "source": [
    "Some of the popular languages that Data Scientists use are:\n",
    "\n",
    "1) python\n",
    "2) R\n",
    "3) julia"
   ]
  },
  {
   "cell_type": "markdown",
   "id": "1d56952b-c94a-4074-8774-b1a6209c18db",
   "metadata": {},
   "source": [
    "Some of the commonly used libraries used by Data Scientists include:\n",
    "\n",
    "1) pandas\n",
    "2) numpy\n",
    "3) ggplot"
   ]
  },
  {
   "cell_type": "markdown",
   "id": "8127ec90-e72c-48b7-898f-ce183dbf2b97",
   "metadata": {},
   "source": [
    "|Data Science Tools|\n",
    "--------------------\n",
    "|Jupyter Notebook  |\n",
    "|RStudio           |\n",
    "|TensorFlow        |"
   ]
  },
  {
   "cell_type": "markdown",
   "id": "80891560-cba8-4d7d-80e4-7d216b63847e",
   "metadata": {
    "tags": []
   },
   "source": [
    "### Below are a few examples of evaluating arithmetic expressions in Python"
   ]
  },
  {
   "cell_type": "code",
   "execution_count": 1,
   "id": "2a8b7be9-e498-4026-9e0a-73a7ba75639b",
   "metadata": {},
   "outputs": [
    {
     "data": {
      "text/plain": [
       "17"
      ]
     },
     "execution_count": 1,
     "metadata": {},
     "output_type": "execute_result"
    }
   ],
   "source": [
    "# This a simple arithmetic expression to mutiply then add integers\n",
    "(3*4)+5"
   ]
  },
  {
   "cell_type": "code",
   "execution_count": 2,
   "id": "9d3d7722-5e11-409c-8b9c-d5ef55dcdac9",
   "metadata": {},
   "outputs": [
    {
     "data": {
      "text/plain": [
       "3.3333333333333335"
      ]
     },
     "execution_count": 2,
     "metadata": {},
     "output_type": "execute_result"
    }
   ],
   "source": [
    "# This will convert 200 minutes to hours by diving by 60\n",
    "def hours_to_minutes(t_minutes):\n",
    "    return t_minutes/60\n",
    "hours_to_minutes(200)"
   ]
  }
 ],
 "metadata": {
  "kernelspec": {
   "display_name": "Python",
   "language": "python",
   "name": "conda-env-python-py"
  },
  "language_info": {
   "codemirror_mode": {
    "name": "ipython",
    "version": 3
   },
   "file_extension": ".py",
   "mimetype": "text/x-python",
   "name": "python",
   "nbconvert_exporter": "python",
   "pygments_lexer": "ipython3",
   "version": "3.7.12"
  }
 },
 "nbformat": 4,
 "nbformat_minor": 5
}
